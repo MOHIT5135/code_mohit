{
 "cells": [
  {
   "cell_type": "code",
   "execution_count": 3,
   "metadata": {},
   "outputs": [
    {
     "name": "stdout",
     "output_type": "stream",
     "text": [
      "95.0 ++ 545.0 = 95.0\n"
     ]
    }
   ],
   "source": [
    "def display(x,y,z):\n",
    "    if z == '+':\n",
    "        out = x + y\n",
    "        print(f\"{x} {z} {y} = {out}\")\n",
    "    elif z =='-':\n",
    "        out = x - y\n",
    "        print(f\"{x} {z} {y} = {out}\")\n",
    "    elif z == '*':\n",
    "        out = x * y\n",
    "        print(f\"{x} {z} {y} = {out}\")\n",
    "    elif z =='/':\n",
    "        out = x / y\n",
    "        print(f\"{x} {z} {y} = {out}\")\n",
    "    else:\n",
    "        out = x % y\n",
    "        print(f\"{x} {z} {y} = {out}\")    \n",
    "\n",
    "x= float(input(\"Enter a number: \"))\n",
    "y = float(input(\"Enter another number: \"))\n",
    "z = input(\"Enter a operator(+,-,*/%): \")\n",
    "display(x,y,z)"
   ]
  },
  {
   "cell_type": "code",
   "execution_count": null,
   "metadata": {},
   "outputs": [],
   "source": []
  }
 ],
 "metadata": {
  "kernelspec": {
   "display_name": "Python 3",
   "language": "python",
   "name": "python3"
  },
  "language_info": {
   "codemirror_mode": {
    "name": "ipython",
    "version": 3
   },
   "file_extension": ".py",
   "mimetype": "text/x-python",
   "name": "python",
   "nbconvert_exporter": "python",
   "pygments_lexer": "ipython3",
   "version": "3.12.2"
  }
 },
 "nbformat": 4,
 "nbformat_minor": 2
}
